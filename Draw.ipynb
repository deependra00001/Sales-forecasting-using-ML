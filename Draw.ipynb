{
 "cells": [
  {
   "cell_type": "code",
   "execution_count": 47,
   "metadata": {},
   "outputs": [],
   "source": [
    "import pandas as pd\n",
    "Path=r'C:\\Users\\HP\\Desktop\\Resume\\Jobs Applied\\Deloitte ME - A&C\\Python'\n",
    "Path_Data=Path+'\\\\Data\\\\'\n",
    "xls=pd.ExcelFile(Path_Data+'Temp.xlsx')\n",
    "Test=pd.read_excel(xls,'Data')"
   ]
  },
  {
   "cell_type": "code",
   "execution_count": 56,
   "metadata": {},
   "outputs": [
    {
     "data": {
      "text/html": [
       "<div>\n",
       "<style scoped>\n",
       "    .dataframe tbody tr th:only-of-type {\n",
       "        vertical-align: middle;\n",
       "    }\n",
       "\n",
       "    .dataframe tbody tr th {\n",
       "        vertical-align: top;\n",
       "    }\n",
       "\n",
       "    .dataframe thead th {\n",
       "        text-align: right;\n",
       "    }\n",
       "</style>\n",
       "<table border=\"1\" class=\"dataframe\">\n",
       "  <thead>\n",
       "    <tr style=\"text-align: right;\">\n",
       "      <th></th>\n",
       "      <th>Name</th>\n",
       "      <th>Count</th>\n",
       "    </tr>\n",
       "  </thead>\n",
       "  <tbody>\n",
       "    <tr>\n",
       "      <td>0</td>\n",
       "      <td>Deependra</td>\n",
       "      <td>2</td>\n",
       "    </tr>\n",
       "    <tr>\n",
       "      <td>1</td>\n",
       "      <td>Manish</td>\n",
       "      <td>1</td>\n",
       "    </tr>\n",
       "    <tr>\n",
       "      <td>2</td>\n",
       "      <td>dgrts</td>\n",
       "      <td>4</td>\n",
       "    </tr>\n",
       "    <tr>\n",
       "      <td>3</td>\n",
       "      <td>ghslkdtec</td>\n",
       "      <td>5</td>\n",
       "    </tr>\n",
       "    <tr>\n",
       "      <td>4</td>\n",
       "      <td>hstevig</td>\n",
       "      <td>3</td>\n",
       "    </tr>\n",
       "  </tbody>\n",
       "</table>\n",
       "</div>"
      ],
      "text/plain": [
       "        Name  Count\n",
       "0  Deependra      2\n",
       "1     Manish      1\n",
       "2      dgrts      4\n",
       "3  ghslkdtec      5\n",
       "4    hstevig      3"
      ]
     },
     "execution_count": 56,
     "metadata": {},
     "output_type": "execute_result"
    }
   ],
   "source": [
    "Test"
   ]
  },
  {
   "cell_type": "code",
   "execution_count": 82,
   "metadata": {},
   "outputs": [
    {
     "name": "stdout",
     "output_type": "stream",
     "text": [
      "0    Deependra\n",
      "1       Manish\n",
      "2        dgrts\n",
      "3    ghslkdtec\n",
      "4      hstevig\n",
      "Name: Name, dtype: object\n",
      "0    2\n",
      "1    1\n",
      "2    4\n",
      "3    5\n",
      "4    3\n",
      "Name: Count, dtype: int64\n"
     ]
    }
   ],
   "source": [
    "Name=Test.iloc[:,0]\n",
    "Count=Test.iloc[:,1]\n",
    "print(Name)\n",
    "print(Count)"
   ]
  },
  {
   "cell_type": "code",
   "execution_count": 83,
   "metadata": {},
   "outputs": [
    {
     "name": "stdout",
     "output_type": "stream",
     "text": [
      "Deependra\n",
      "Deependra\n",
      "Manish\n",
      "dgrts\n",
      "dgrts\n",
      "dgrts\n",
      "dgrts\n",
      "ghslkdtec\n",
      "ghslkdtec\n",
      "ghslkdtec\n",
      "ghslkdtec\n",
      "ghslkdtec\n",
      "hstevig\n",
      "hstevig\n",
      "hstevig\n",
      "['Deependra', 'Deependra', 'Manish', 'dgrts', 'dgrts', 'dgrts', 'dgrts', 'ghslkdtec', 'ghslkdtec', 'ghslkdtec', 'ghslkdtec', 'ghslkdtec', 'hstevig', 'hstevig', 'hstevig']\n"
     ]
    },
    {
     "data": {
      "text/plain": [
       "list"
      ]
     },
     "execution_count": 83,
     "metadata": {},
     "output_type": "execute_result"
    }
   ],
   "source": [
    "#Name = ['Deependra','ABC','CNE','rsghjt']\n",
    "#Count= [5,4,3,7]\n",
    "Final=[]\n",
    "for a in range(len(Count)):\n",
    "    for b in range(Count[a]):\n",
    "        print(Name[a])\n",
    "        Final.append(Name[a])\n",
    "print(Final)\n",
    "type(Final)"
   ]
  },
  {
   "cell_type": "code",
   "execution_count": 140,
   "metadata": {},
   "outputs": [
    {
     "name": "stdout",
     "output_type": "stream",
     "text": [
      "['hstevig', 'dgrts', 'ghslkdtec', 'Deependra', 'ghslkdtec', 'Manish', 'ghslkdtec', 'ghslkdtec', 'Deependra', 'dgrts', 'hstevig', 'dgrts', 'hstevig', 'ghslkdtec', 'dgrts']\n"
     ]
    }
   ],
   "source": [
    "import random\n",
    "random.shuffle(Final)\n",
    "random.shuffle(Final)\n",
    "random.shuffle(Final)\n",
    "print(Final)"
   ]
  },
  {
   "cell_type": "code",
   "execution_count": 106,
   "metadata": {},
   "outputs": [
    {
     "data": {
      "text/html": [
       "<div>\n",
       "<style scoped>\n",
       "    .dataframe tbody tr th:only-of-type {\n",
       "        vertical-align: middle;\n",
       "    }\n",
       "\n",
       "    .dataframe tbody tr th {\n",
       "        vertical-align: top;\n",
       "    }\n",
       "\n",
       "    .dataframe thead th {\n",
       "        text-align: right;\n",
       "    }\n",
       "</style>\n",
       "<table border=\"1\" class=\"dataframe\">\n",
       "  <thead>\n",
       "    <tr style=\"text-align: right;\">\n",
       "      <th></th>\n",
       "      <th>Names</th>\n",
       "    </tr>\n",
       "  </thead>\n",
       "  <tbody>\n",
       "    <tr>\n",
       "      <td>0</td>\n",
       "      <td>dgrts</td>\n",
       "    </tr>\n",
       "    <tr>\n",
       "      <td>1</td>\n",
       "      <td>ghslkdtec</td>\n",
       "    </tr>\n",
       "    <tr>\n",
       "      <td>2</td>\n",
       "      <td>Manish</td>\n",
       "    </tr>\n",
       "    <tr>\n",
       "      <td>3</td>\n",
       "      <td>hstevig</td>\n",
       "    </tr>\n",
       "    <tr>\n",
       "      <td>4</td>\n",
       "      <td>ghslkdtec</td>\n",
       "    </tr>\n",
       "    <tr>\n",
       "      <td>5</td>\n",
       "      <td>dgrts</td>\n",
       "    </tr>\n",
       "    <tr>\n",
       "      <td>6</td>\n",
       "      <td>ghslkdtec</td>\n",
       "    </tr>\n",
       "    <tr>\n",
       "      <td>7</td>\n",
       "      <td>ghslkdtec</td>\n",
       "    </tr>\n",
       "    <tr>\n",
       "      <td>8</td>\n",
       "      <td>dgrts</td>\n",
       "    </tr>\n",
       "    <tr>\n",
       "      <td>9</td>\n",
       "      <td>Deependra</td>\n",
       "    </tr>\n",
       "    <tr>\n",
       "      <td>10</td>\n",
       "      <td>hstevig</td>\n",
       "    </tr>\n",
       "    <tr>\n",
       "      <td>11</td>\n",
       "      <td>hstevig</td>\n",
       "    </tr>\n",
       "    <tr>\n",
       "      <td>12</td>\n",
       "      <td>dgrts</td>\n",
       "    </tr>\n",
       "    <tr>\n",
       "      <td>13</td>\n",
       "      <td>Deependra</td>\n",
       "    </tr>\n",
       "    <tr>\n",
       "      <td>14</td>\n",
       "      <td>ghslkdtec</td>\n",
       "    </tr>\n",
       "  </tbody>\n",
       "</table>\n",
       "</div>"
      ],
      "text/plain": [
       "        Names\n",
       "0       dgrts\n",
       "1   ghslkdtec\n",
       "2      Manish\n",
       "3     hstevig\n",
       "4   ghslkdtec\n",
       "5       dgrts\n",
       "6   ghslkdtec\n",
       "7   ghslkdtec\n",
       "8       dgrts\n",
       "9   Deependra\n",
       "10    hstevig\n",
       "11    hstevig\n",
       "12      dgrts\n",
       "13  Deependra\n",
       "14  ghslkdtec"
      ]
     },
     "execution_count": 106,
     "metadata": {},
     "output_type": "execute_result"
    }
   ],
   "source": [
    "df = pd.DataFrame(Final,columns =['Names'])\n",
    "df"
   ]
  },
  {
   "cell_type": "code",
   "execution_count": 80,
   "metadata": {},
   "outputs": [],
   "source": [
    "df.to_csv(\"Final.csv\",index = True)"
   ]
  }
 ],
 "metadata": {
  "kernelspec": {
   "display_name": "Python 3",
   "language": "python",
   "name": "python3"
  },
  "language_info": {
   "codemirror_mode": {
    "name": "ipython",
    "version": 3
   },
   "file_extension": ".py",
   "mimetype": "text/x-python",
   "name": "python",
   "nbconvert_exporter": "python",
   "pygments_lexer": "ipython3",
   "version": "3.7.4"
  }
 },
 "nbformat": 4,
 "nbformat_minor": 2
}
